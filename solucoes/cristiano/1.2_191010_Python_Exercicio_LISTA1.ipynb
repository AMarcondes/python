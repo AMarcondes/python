{
 "cells": [
  {
   "cell_type": "code",
   "execution_count": 22,
   "metadata": {},
   "outputs": [
    {
     "name": "stdout",
     "output_type": "stream",
     "text": [
      "[0, 1, [2]]\n",
      "[0, 1, [3]]\n",
      "[0, 1, [3, 4]]\n",
      "[0, 1, 2]\n"
     ]
    }
   ],
   "source": [
    "#problem 1: What will be the output of the following program?\n",
    "\n",
    "x = [0, 1, [2]]\n",
    "print (x)\n",
    "\n",
    "x[2][0] = 3\n",
    "print (x)\n",
    "\n",
    "x[2].append(4)\n",
    "print (x)\n",
    "\n",
    "x[2] = 2\n",
    "print (x)\n",
    "\n",
    "# 1: Foi criado um array com um array dentro. Foi trocada a variável na posição especificada [0][2],\n",
    "# mudando o número de 2 para 3.\n",
    "\n",
    "# 2: append adiciona o valor ao final do array"
   ]
  },
  {
   "cell_type": "code",
   "execution_count": 1,
   "metadata": {},
   "outputs": [
    {
     "name": "stdout",
     "output_type": "stream",
     "text": [
      "Enter Number to calculate sum: 4\n",
      "SUM of first 4 numbers is:  10\n"
     ]
    }
   ],
   "source": [
    "#problem 2: Python has a built-in function sum to find sum of all elements of a list.\n",
    "# Provide an implementation for sum.\n",
    "\n",
    "n = int(input(\"Enter Number to calculate sum: \"))\n",
    "sum = 0\n",
    "\n",
    "for num in range(0,n+1,1):\n",
    "    sum = sum+num\n",
    "\n",
    "print(\"SUM of first\", n,\"numbers is: \", sum )"
   ]
  },
  {
   "cell_type": "code",
   "execution_count": 74,
   "metadata": {},
   "outputs": [
    {
     "name": "stdout",
     "output_type": "stream",
     "text": [
      "['abcd', 'efgh', 'ijkl']\n",
      "['efgh', 'ijkl']\n",
      "['ijkl']\n"
     ]
    }
   ],
   "source": [
    "word = [\"abcd\", \"efgh\", \"ijkl\"]\n",
    "\n",
    "for i in range(0, len(word)):\n",
    "    print(word[i:i+3])"
   ]
  },
  {
   "cell_type": "code",
   "execution_count": 14,
   "metadata": {},
   "outputs": [
    {
     "name": "stdout",
     "output_type": "stream",
     "text": [
      "Input 1:hello\n",
      "Input 2:world\n",
      "Result = helloworld\n"
     ]
    }
   ],
   "source": [
    "#problem 3: What happens when the above sum function is called with a list of strings?\n",
    "#Can you make your sum function work for a list of strings as well?\n",
    "\n",
    "\n",
    "#sum([\"hello\", \"world\"])\n",
    "\n",
    "#sum([\"aa\", \"bb\", \"cc\"])\n",
    "\n",
    "#NAO FUNCIONA. PRECISA SOMAR DA FORMA CONVENCIONAL\n",
    "\n",
    "s1 = str(input('Input 1:'))\n",
    "s2 = str(input('Input 2:'))\n",
    "\n",
    "print('Result =', s1 + s2)\n"
   ]
  },
  {
   "cell_type": "code",
   "execution_count": 3,
   "metadata": {},
   "outputs": [
    {
     "name": "stdout",
     "output_type": "stream",
     "text": [
      "6\n"
     ]
    }
   ],
   "source": [
    "#problem 4: Implement a function product, to compute product of a list of numbers.\n",
    "\n",
    "\n",
    "lista = [1, 2, 3]\n",
    "result = 1\n",
    "for x in lista:\n",
    "    result = result * x\n",
    "print(result)"
   ]
  },
  {
   "cell_type": "code",
   "execution_count": 5,
   "metadata": {},
   "outputs": [
    {
     "name": "stdout",
     "output_type": "stream",
     "text": [
      "The factorial of 3 is : 6\n"
     ]
    }
   ],
   "source": [
    "#problem 5: Write a function factorial to compute factorial of a number.\n",
    "#Can you use the product function defined in the previous example to compute factorial?\n",
    "\n",
    "n = 3\n",
    "fact = 1\n",
    "  \n",
    "for i in range(1,n+1): \n",
    "    fact = fact * i \n",
    "      \n",
    "print (\"The factorial of\", n, \"is :\", fact) "
   ]
  },
  {
   "cell_type": "code",
   "execution_count": 28,
   "metadata": {},
   "outputs": [
    {
     "name": "stdout",
     "output_type": "stream",
     "text": [
      "[1, 2, 3, 4, 5]\n",
      "[5, 4, 3, 2, 1]\n",
      "[1, 2, 3, 4, 5]\n",
      "[5, 4, 3, 2, 1]\n",
      "[5, 4, 3, 2, 1] [1, 2, 3, 4, 5]\n",
      "lista2: \n",
      " [5, 4, 3, 2, 1]\n"
     ]
    }
   ],
   "source": [
    "# problem 6: Write a function reverse to reverse a list. Can you do this without using list slicing?\n",
    "\n",
    "lista = [1, 2, 3, 4, 5]\n",
    "print(lista)\n",
    "lista.reverse()\n",
    "print(lista)\n",
    "\n",
    "lista.reverse()\n",
    "print(lista)\n",
    "\n",
    "print(lista[::-1])\n",
    "print(lista[::-1], lista[::-1][::-1])\n",
    "lista2 = lista[::-1]\n",
    "print(\"lista2: \\n\", lista2)"
   ]
  },
  {
   "cell_type": "code",
   "execution_count": 23,
   "metadata": {},
   "outputs": [
    {
     "name": "stdout",
     "output_type": "stream",
     "text": [
      "['z', 'o', 'c', 'a', '2']\n",
      "['2', 'a', 'c', 'o', 'z']\n",
      "The first and last element of list are : ['2', 'z']\n"
     ]
    }
   ],
   "source": [
    "# problem 7: Python has built-in functions min and max to compute minimum and maximum of a given list.Provide an\n",
    "#implementation for these functions. What happens when you call your min and max functions with a list of strings?\n",
    "\n",
    "\n",
    "#NAO FUNCIONA PORQUE MAX E MIN SÓ FUNCIONA EM NUMEROS. PARA STRING É PRECISO ORDENAR.\n",
    "\n",
    "lista = [\"z\", \"a\", \"c\", \"o\", \"2\"]\n",
    "\n",
    "lista.sort(reverse=True)\n",
    "print(lista)\n",
    "\n",
    "lista.sort()\n",
    "print(lista)\n",
    "\n",
    "res = [ lista[0], lista[-1] ]  \n",
    "  \n",
    "# printing result \n",
    "print (\"The first and last element of list are : \" +  str(res))"
   ]
  },
  {
   "cell_type": "code",
   "execution_count": 3,
   "metadata": {},
   "outputs": [
    {
     "name": "stdout",
     "output_type": "stream",
     "text": [
      "[2, 7, 14, 25, 27, 117, 121440]\n"
     ]
    }
   ],
   "source": [
    "# problem 8: Cumulative sum of a list [a, b, c, ...] is defined as [a, a+b, a+b+c, ...].\n",
    "# Write a function cumulative_sum to compute cumulative sum of a list.\n",
    "# Does your implementation work for a list of strings?\n",
    "\n",
    "entryList = [2, 5, 7, 11, 2, 90, 121323]\n",
    "#entryList = [\"a\", \"b\"] - SOMA NÃO FUNCIONA COM STRING\n",
    "\n",
    "cumulativeSum = []\n",
    "x = 0\n",
    "\n",
    "for i in entryList:\n",
    "    x = x + i\n",
    "    cumulativeSum.append(x)\n",
    "#    print(i)\n",
    "print(cumulativeSum)"
   ]
  },
  {
   "cell_type": "code",
   "execution_count": 17,
   "metadata": {},
   "outputs": [
    {
     "name": "stdout",
     "output_type": "stream",
     "text": [
      "entryList:  [1, 2, 3, 4]\n",
      "cumulative List:  [1, 2, 6, 24]\n",
      "entryList:  [4, 3, 2, 1]\n",
      "cumulative List:  [4, 12, 24, 24]\n"
     ]
    }
   ],
   "source": [
    "# problem 9: Write a function cumulative_product to compute cumulative product \n",
    "# of a list of numbers.\n",
    "\n",
    "entryList = [1, 2, 3, 4]\n",
    "\n",
    "\n",
    "def cumulative():\n",
    "\n",
    "    print(\"entryList: \", entryList)\n",
    "    cumulativeProduct = []\n",
    "    x = 1\n",
    "\n",
    "    for i in entryList:\n",
    "        x = x * i\n",
    "        cumulativeProduct.append(x)\n",
    "    #    print(i)\n",
    "    print(\"cumulative List: \", cumulativeProduct)\n",
    "\n",
    "cumulative()\n",
    "entryList.reverse()\n",
    "cumulative()\n"
   ]
  },
  {
   "cell_type": "code",
   "execution_count": 2,
   "metadata": {},
   "outputs": [
    {
     "name": "stdout",
     "output_type": "stream",
     "text": [
      "unique numbers:  [1, 2, 5, 6, 67]\n"
     ]
    }
   ],
   "source": [
    "#problem 10: Write a function unique to find all the unique elements of a list.\n",
    "\n",
    "entryList = [1, 2, 5, 67, 67, 67, 2, 5, 6, 6]\n",
    "finalList = []\n",
    "\n",
    "def unique():\n",
    "    for x in entryList:\n",
    "        if x not in finalList:\n",
    "            finalList.append(x)\n",
    "    finalList.sort()\n",
    "    print (\"unique numbers: \", finalList)\n",
    "unique()"
   ]
  },
  {
   "cell_type": "code",
   "execution_count": 20,
   "metadata": {},
   "outputs": [
    {
     "name": "stdout",
     "output_type": "stream",
     "text": [
      "Entry list: [6, 7, 11, 15, 15, 20, 20, 20, 30, 30, 40, 40, 50, 50]\n",
      "Unique List: [6, 7, 11, 15, 20, 30, 40, 50]\n",
      "Duplicated List: [15, 20, 30, 40, 50]\n"
     ]
    }
   ],
   "source": [
    "# problem 11: Write a function dups to find all duplicates in the list.\n",
    "# dups([1, 2, 1, 3, 2, 5])\n",
    "# [1, 2]\n",
    "\n",
    "entryList = [20,30,20,30,40,50,15,11,20,40,50,15,6,7]\n",
    " \n",
    "entryList.sort()\n",
    "print(\"Entry list:\", entryList)\n",
    " \n",
    "new_list = sorted(set(entryList))\n",
    "print(\"Unique List:\", new_list)\n",
    "dup_list =[]\n",
    " \n",
    "for i in range(len(new_list)):\n",
    "        if (my_list.count(new_list[i]) > 1 ):\n",
    "            dup_list.append(new_list[i])\n",
    "        \n",
    "print(\"Duplicated List:\", dup_list) "
   ]
  },
  {
   "cell_type": "code",
   "execution_count": 26,
   "metadata": {},
   "outputs": [
    {
     "name": "stdout",
     "output_type": "stream",
     "text": [
      "{6, 7, 40, 11, 15, 50, 20, 30}\n",
      "[20, 30, 20, 40, 50, 15]\n"
     ]
    }
   ],
   "source": [
    "# problem 11: Write a function dups to find all duplicates in the list.\n",
    "# dups([1, 2, 1, 3, 2, 5])\n",
    "# [1, 2]\n",
    "\n",
    "lista = [20,30,20,30,40,50,15,11,20,40,50,15,6,7]\n",
    "seen = set()\n",
    "unique = []\n",
    "\n",
    "for x in lista:\n",
    "    if x not in seen:\n",
    "        seen.add(x)\n",
    "    else:\n",
    "        unique.append(x)\n",
    "print(seen)\n",
    "print(unique)"
   ]
  },
  {
   "cell_type": "code",
   "execution_count": 28,
   "metadata": {},
   "outputs": [
    {
     "name": "stdout",
     "output_type": "stream",
     "text": [
      "[[1, 2, 3], [4, 5, 6], [7, 8, 9]]\n"
     ]
    }
   ],
   "source": [
    "#problem 12: Write a function group(list, size) that take a list and splits into smaller lists of given size.\n",
    "#    >>> group([1, 2, 3, 4, 5, 6, 7, 8, 9], 3)\n",
    "#    [[1, 2, 3], [4, 5, 6], [7, 8, 9]]\n",
    "#    >>> group([1, 2, 3, 4, 5, 6, 7, 8, 9], 4)\n",
    "#    [[1, 2, 3, 4], [5, 6, 7, 8], [9]]    \n",
    "\n",
    "def group(entryList):\n",
    "    result = [1, 2, 3, 4, 5, 6, 7, 8, 9]\n",
    "    lenght = 3\n",
    "    \n",
    "    print([result[j:j+lenght] for j in range(0, len(result), lenght)])\n",
    "\n",
    "group(entryList)"
   ]
  },
  {
   "cell_type": "markdown",
   "metadata": {},
   "source": [
    "### Problem 14: Write a function `lensort` to sort a list of strings based on length.\n",
    "\n",
    "\n",
    "    >>> lensort(['python', 'perl', 'java', 'c', 'haskell', 'ruby'])\n",
    "    ['c', 'perl', 'java', 'ruby', 'python', 'haskell']"
   ]
  },
  {
   "cell_type": "code",
   "execution_count": 6,
   "metadata": {},
   "outputs": [
    {
     "name": "stdout",
     "output_type": "stream",
     "text": [
      "['python', 'perl', 'java', 'c', 'haskell', 'ruby']\n",
      "['c', 'haskell', 'java', 'perl', 'python', 'ruby']\n"
     ]
    }
   ],
   "source": [
    "lista1 = ['python', 'perl', 'java', 'c', 'haskell', 'ruby']\n",
    "\n",
    "def lensort(lista1):\n",
    "    lista2 = sorted(lista1, key = len)\n",
    "    return lista2\n",
    "print(lista1)\n",
    "print(lensort(lista1))"
   ]
  },
  {
   "cell_type": "markdown",
   "metadata": {},
   "source": [
    "### Problem 15:\n",
    "\n",
    "#### Improve the unique function written in previous problems to take an optional key function as argument and use the return value of the key function to check for uniqueness.\n",
    "\n",
    "unique([\"python\", \"java\", \"Python\", \"Java\"], key=lambda s:s.lower())\n",
    "\n",
    "[\"python\", \"java\"]"
   ]
  },
  {
   "cell_type": "code",
   "execution_count": 7,
   "metadata": {},
   "outputs": [
    {
     "name": "stdout",
     "output_type": "stream",
     "text": [
      "['python', 'java', 'Python', 'Java']\n",
      "['python', 'java']\n"
     ]
    }
   ],
   "source": [
    "# 15 # FALTA FAZER\n",
    "lista = [\"python\", \"java\", \"Python\", \"Java\"]\n",
    "\n",
    "import copy\n",
    "def uniqueString(vector):\n",
    "    vectorOriginal = copy.deepcopy(vector)\n",
    "    print(vectorOriginal)\n",
    "    dupVector = []\n",
    "    for i in range(len(vector)):\n",
    "        for j in range(i, len(vector)-1):\n",
    "            if vector[j+1].lower() == vector[i].lower():\n",
    "                dupVector.append(vector[i])\n",
    "    return dupVector\n",
    "    \n",
    "print(uniqueString(lista))"
   ]
  },
  {
   "cell_type": "markdown",
   "metadata": {},
   "source": [
    "### Problem 16:\n",
    "#### Reimplement the unique function implemented in the earlier examples using sets."
   ]
  },
  {
   "cell_type": "code",
   "execution_count": 42,
   "metadata": {},
   "outputs": [
    {
     "name": "stdout",
     "output_type": "stream",
     "text": [
      "{2, 5}\n",
      "{1, 2, 5}\n"
     ]
    }
   ],
   "source": [
    "entryList = [1, 2, 2, 5, 5]\n",
    "\n",
    "seen = set()\n",
    "uniq = set()\n",
    "for x in entryList:\n",
    "    if x not in seen:\n",
    "        seen.add(x)\n",
    "    else:\n",
    "        uniq.add(x)\n",
    "print(uniq)\n",
    "print(seen)\n",
    "\n",
    "# SET é covardia. Ele organiza os itens únicos de um conjunto\n",
    "# excludindo repetidos"
   ]
  },
  {
   "cell_type": "code",
   "execution_count": 35,
   "metadata": {},
   "outputs": [
    {
     "name": "stdout",
     "output_type": "stream",
     "text": [
      "[5, 23, 7]\n"
     ]
    }
   ],
   "source": [
    "# Python code to illustrate \n",
    "# filter() with lambda() \n",
    "lista = [5, 23, 22, 7] \n",
    "lista_impares = list(filter(lambda x: (x%2 != 0), lista))\n",
    "print(lista_impares) "
   ]
  },
  {
   "cell_type": "markdown",
   "metadata": {},
   "source": [
    "### Problem 17:\n",
    "#### Write a function extsort to sort a list of files based on extension.\n",
    "\n",
    "    >>> extsort(['a.c', 'a.py', 'b.py', 'bar.txt', 'foo.txt', 'x.c'])\n",
    "    ['a.c', 'x.c', 'a.py', 'b.py', 'bar.txt', 'foo.txt']"
   ]
  },
  {
   "cell_type": "code",
   "execution_count": 25,
   "metadata": {},
   "outputs": [
    {
     "name": "stdout",
     "output_type": "stream",
     "text": [
      "['a', 'a', 'b', 'bar', 'foo', 'x']\n",
      "['c', 'py', 'py', 'txt', 'txt', 'c']\n"
     ]
    }
   ],
   "source": [
    "lista = ['a.c', 'a.py', 'b.py', 'bar.txt', 'foo.txt', 'x.c']\n",
    "\n",
    "teste0 = []\n",
    "teste1 = []\n",
    "for s in lista:\n",
    "    a = s.split(\".\")\n",
    "    teste0.append(a[0])\n",
    "    teste1.append(a[1])\n",
    "\n",
    "print(teste0)\n",
    "    \n",
    "print(teste1)"
   ]
  },
  {
   "cell_type": "markdown",
   "metadata": {},
   "source": [
    "### Problem 18:\n",
    "#### Write a program `reverse.py` to print lines of a file in reverse order.\n",
    "\n",
    "      $ cat she.txt\n",
    "      She sells seashells on the seashore;\n",
    "      The shells that she sells are seashells I'm sure.\n",
    "      So if she sells seashells on the seashore,\n",
    "      I'm sure that the shells are seashore shells.\n",
    "\n",
    "      $ python reverse.py she.txt\n",
    "      I'm sure that the shells are seashore shells.\n",
    "      So if she sells seashells on the seashore,\n",
    "      The shells that she sells are seashells I'm sure.\n",
    "      She sells seashells on the seashore;"
   ]
  },
  {
   "cell_type": "code",
   "execution_count": 23,
   "metadata": {},
   "outputs": [
    {
     "name": "stdout",
     "output_type": "stream",
     "text": [
      "['text1', 'text2', 'text3', 'text4']\n",
      "text4\n",
      "text3\n",
      "text2\n",
      "text1\n"
     ]
    }
   ],
   "source": [
    "varText = \"She sells seashells on the seashore;\\n\"\n",
    "varText += \"The shells that she sells are seashells I'm sure.\\n\"\n",
    "varText += \"So if she sells seashells on the seashore,\\n\"\n",
    "varText += \"I'm sure that the shells are seashore shells.\"\n",
    "\n",
    "vr = [\"text1\", \"text2\", \"text3\", \"text4\"]\n",
    "print(vr)\n",
    "\n",
    "i = len(vr) -1\n",
    "\n",
    "while i >= 0 :\n",
    "    print(vr[i]) \n",
    "    i -= 1    "
   ]
  },
  {
   "cell_type": "markdown",
   "metadata": {},
   "source": [
    "### Problem 19:\n",
    "#### Write a program to print each line of a file in reverse order."
   ]
  },
  {
   "cell_type": "code",
   "execution_count": 99,
   "metadata": {},
   "outputs": [
    {
     "name": "stdout",
     "output_type": "stream",
     "text": [
      "erohsaes eht no sllehsaes slles ehS\n",
      ".erus m'I sllehsaes era slles ehs taht sllehs ehT\n"
     ]
    }
   ],
   "source": [
    "lista = [\"She sells seashells on the seashore\", \"The shells that she sells are seashells I'm sure.\"] \n",
    "reversa = []\n",
    "\n",
    "for i in lista:\n",
    "    reversa = i\n",
    "    print(reversa[::-1])"
   ]
  },
  {
   "cell_type": "markdown",
   "metadata": {},
   "source": [
    "### Problem 20:\n",
    "####  Implement unix commands `head` and `tail`. The `head` and `tail` commands take a file as argument and prints its first and last 10 lines of the file respectively."
   ]
  },
  {
   "cell_type": "code",
   "execution_count": 85,
   "metadata": {},
   "outputs": [
    {
     "name": "stdout",
     "output_type": "stream",
     "text": [
      "Namespaces are one honking great idea--let's do more of those!\n",
      " \n",
      "\n",
      "Beautiful is better than ugly.\n",
      "Explicit is better than implicit.\n",
      "Simple is better than complex.\n",
      "Complex is better than complicated.\n",
      "Flat is better than nested.\n",
      "\n",
      "Now is better than never.\n",
      "Although never is often better than right now.\n",
      "If the implementation is hard to explain, it's a bad idea.\n",
      "If the implementation is easy to explain, it may be a good idea.\n",
      "Namespaces are one honking great idea--let's do more of those!\n"
     ]
    }
   ],
   "source": [
    "caminho=\"exercicio20.txt\"\n",
    "head = 5\n",
    "tail = 5\n",
    "with open(caminho, \"r\") as hat:\n",
    "    lines=hat.readlines()\n",
    "    for i in range(0, head):\n",
    "        print(lines[i].rstrip())\n",
    "    print(\"\")\n",
    "    \n",
    "    for i in range(-tail, 0):\n",
    "        print(lines[i].rstrip())\n",
    "#print(open(caminho, \"r\").readlines()[-1+len(open(caminho, \"r\").readlines())])"
   ]
  },
  {
   "cell_type": "markdown",
   "metadata": {},
   "source": [
    "### Problem 21:\n",
    "#### Implement unix command `grep`. The `grep` command takes a string and a file as arguments and prints all lines in the file which contain the specified string.\n",
    "\n",
    "    $ python grep.py she.txt sure\n",
    "    The shells that she sells are seashells I'm sure.\n",
    "    I'm sure that the shells are seashore shells.\n"
   ]
  },
  {
   "cell_type": "code",
   "execution_count": 89,
   "metadata": {},
   "outputs": [
    {
     "name": "stdout",
     "output_type": "stream",
     "text": [
      "Beautiful is better than ugly.\n",
      "Explicit is better than implicit.\n",
      "Simple is better than complex.\n",
      "Complex is better than complicated.\n",
      "Flat is better than nested.\n",
      "Sparse is better than dense.\n",
      "Now is better than never.\n",
      "Although never is often better than right now.\n"
     ]
    }
   ],
   "source": [
    "caminho=\"exercicio20.txt\"\n",
    "string = \"better\"\n",
    "\n",
    "with open(caminho, \"r\") as hat:\n",
    "    for line in hat:\n",
    "        if string in line:\n",
    "            print (line.rstrip())"
   ]
  },
  {
   "cell_type": "markdown",
   "metadata": {},
   "source": [
    "### Problem 22:\n",
    "#### Write a program `wrap.py` that takes filename and width as aruguments and wraps the lines longer than `width`.\n",
    "\n",
    "    $ python wrap.py she.txt 30\n",
    "    I'm sure that the shells are s\n",
    "    eashore shells.\n",
    "    So if she sells seashells on t\n",
    "    he seashore,\n",
    "    The shells that she sells are \n",
    "    seashells I'm sure.\n",
    "    She sells seashells on the sea\n",
    "    shore;"
   ]
  },
  {
   "cell_type": "code",
   "execution_count": 10,
   "metadata": {
    "scrolled": true
   },
   "outputs": [
    {
     "name": "stdout",
     "output_type": "stream",
     "text": [
      "Beautiful is better \n",
      "than ugly.\n",
      "Explicit is better t\n",
      "han implicit.\n",
      "Simple is better tha\n",
      "n complex.\n",
      "Complex is better th\n",
      "an complicated.\n",
      "Flat is better than \n",
      "nested.\n",
      "Sparse is better tha\n",
      "n dense.\n",
      "Readability counts.\n",
      "Special cases aren't\n",
      " special enough to b\n",
      "reak the rules.\n",
      "Although practicalit\n",
      "y beats purity.\n",
      "Errors should never \n",
      "pass silently.\n",
      "Unless explicitly si\n",
      "lenced.\n",
      "In the face of ambig\n",
      "uity, refuse the tem\n",
      "ptation to guess.\n",
      "There should be one-\n",
      "-and preferably only\n",
      " one--obvious way to\n",
      " do it.\n",
      "Although that way ma\n",
      "y not be obvious at \n",
      "first unless you're \n",
      "Dutch.\n",
      "Now is better than n\n",
      "ever.\n",
      "Although never is of\n",
      "ten better than righ\n",
      "t now.\n",
      "If the implementatio\n",
      "n is hard to explain\n",
      ", it's a bad idea.\n",
      "If the implementatio\n",
      "n is easy to explain\n",
      ", it may be a good i\n",
      "dea.\n",
      "Namespaces are one h\n",
      "onking great idea--l\n",
      "et's do more of thos\n",
      "e!\n"
     ]
    }
   ],
   "source": [
    "caminho=\"exercicio20.txt\"\n",
    "lenght = 20\n",
    "\n",
    "with open(caminho, \"r\") as file:\n",
    "    for line in file:\n",
    "        [print(line.rstrip()[i:i+lenght]) for i in range(0, len(line), lenght)]\n",
    "\n",
    "        #REPLACE TAMBEM FUNCIONA NO LUGAR DE RSTRIP"
   ]
  },
  {
   "cell_type": "code",
   "execution_count": 62,
   "metadata": {},
   "outputs": [],
   "source": [
    "def wrap(caminho,size):\n",
    "    arquivo = open(caminho, 'r')\n",
    "    texto = arquivo.readlines()\n",
    "    for linha in texto:\n",
    "        if (len(linha)%size) != 0:\n",
    "            quebras = int(len(linha)/size) + 1\n",
    "        else:\n",
    "            quebras = int(len(linha)/size)\n",
    "        a = 0\n",
    "        b = size\n",
    "        for i in range(quebras):\n",
    "            print(linha[a:b:])\n",
    "            a += size\n",
    "            b += size\n",
    "        a = 0\n",
    "        b = 0\n",
    "    arquivo.close()"
   ]
  },
  {
   "cell_type": "code",
   "execution_count": 63,
   "metadata": {},
   "outputs": [
    {
     "name": "stdout",
     "output_type": "stream",
     "text": [
      "Beautiful is better than ugly.\n",
      "\n",
      "\n",
      "Explicit is better than implic\n",
      "it.\n",
      "\n",
      "Simple is better than complex.\n",
      "\n",
      "\n",
      "Complex is better than complic\n",
      "ated.\n",
      "\n",
      "Flat is better than nested.\n",
      "\n",
      "Sparse is better than dense.\n",
      "\n",
      "Readability counts.\n",
      "\n",
      "Special cases aren't special e\n",
      "nough to break the rules.\n",
      "\n",
      "Although practicality beats pu\n",
      "rity.\n",
      "\n",
      "Errors should never pass silen\n",
      "tly.\n",
      "\n",
      "Unless explicitly silenced.\n",
      "\n",
      "In the face of ambiguity, refu\n",
      "se the temptation to guess.\n",
      "\n",
      "There should be one--and prefe\n",
      "rably only one--obvious way to\n",
      " do it.\n",
      "\n",
      "Although that way may not be o\n",
      "bvious at first unless you're \n",
      "Dutch.\n",
      "\n",
      "Now is better than never.\n",
      "\n",
      "Although never is often better\n",
      " than right now.\n",
      "\n",
      "If the implementation is hard \n",
      "to explain, it's a bad idea.\n",
      "\n",
      "If the implementation is easy \n",
      "to explain, it may be a good i\n",
      "dea.\n",
      "\n",
      "Namespaces are one honking gre\n",
      "at idea--let's do more of thos\n",
      "e!\n",
      "\n"
     ]
    }
   ],
   "source": [
    "wrap('exercicio20.txt',30)"
   ]
  },
  {
   "cell_type": "markdown",
   "metadata": {},
   "source": [
    "### Problem 23:\n",
    "#### The above wrap program is not so nice because it is breaking the line at middle of any word. Can you write a new program `wordwrap.py` that works like `wrap.py`, but breaks the line only at the word boundaries?\n",
    "\n",
    "    $ python wordwrap.py she.txt 30\n",
    "    I'm sure that the shells are\n",
    "    seashore shells.\n",
    "    So if she sells seashells on\n",
    "    the seashore,\n",
    "    The shells that she sells are\n",
    "    seashells I'm sure.\n",
    "    She sells seashells on the\n",
    "    seashore;"
   ]
  },
  {
   "cell_type": "code",
   "execution_count": 2,
   "metadata": {},
   "outputs": [],
   "source": [
    "def wordwrap1(caminho,size):\n",
    "    arq = open(caminho, 'r')\n",
    "    texto = arq.readlines()\n",
    "    a = \"\"\n",
    "    sobra = \"\"\n",
    "    tam_a = 0\n",
    "    for linha in texto:\n",
    "        for word in linha.split():\n",
    "            if len(a)+len(word + \" \") <= size: \n",
    "                a += word + \" \"\n",
    "            else: \n",
    "                sobra += word + \" \"\n",
    "        tam_a = len(a)\n",
    "        print(tam_a)\n",
    "        print(a)\n",
    "        print(sobra)\n",
    "        a = \"\"\n",
    "        sobra = \"\"\n",
    "    arq.close()"
   ]
  },
  {
   "cell_type": "code",
   "execution_count": 62,
   "metadata": {},
   "outputs": [],
   "source": [
    "def wordwrap2(caminho,tamanho):\n",
    "    arq = open(caminho, 'r')\n",
    "    texto = arq.readlines()\n",
    "    a = \"\"\n",
    "    sobra = \"\"\n",
    "    for linha in texto:\n",
    "        for palavra in linha.split():\n",
    "            if len(a)+len(palavra + \" \") <= tamanho: \n",
    "                a += palavra + \" \"\n",
    "            else: \n",
    "                sobra += palavra + \" \"\n",
    "        print(a)\n",
    "        linha = linha[len(a):]\n",
    "        print(linha)\n",
    "#        print(sobra)\n",
    "        a = \"\"\n",
    "        sobra = \"\"\n",
    "    arq.close()"
   ]
  },
  {
   "cell_type": "code",
   "execution_count": 92,
   "metadata": {},
   "outputs": [
    {
     "name": "stdout",
     "output_type": "stream",
     "text": [
      "a\n"
     ]
    }
   ],
   "source": [
    "#linha = \"1banana 2laranjapera 3maca 4pera 5uva 6abacate 7abacaxi 8moranguinho 9jilo 10cebola 11tomate 12u 13quibe 14pizza 15trufa\"\n",
    "linha = \"a\"\n",
    "a = \"\"\n",
    "tamanho = 30\n",
    "tam_linha = len(linha)\n",
    "while (tam_linha > tamanho):\n",
    "    for palavra in linha.split():\n",
    "        if len(a)+len(palavra + \" \") <= tamanho: \n",
    "            a += palavra + \" \"\n",
    "        else:\n",
    "            break\n",
    "    linha = linha[len(a)::]\n",
    "    tam_linha = len(linha)\n",
    "    print(a)\n",
    "    a = \"\"\n",
    "print(linha)"
   ]
  },
  {
   "cell_type": "code",
   "execution_count": 160,
   "metadata": {},
   "outputs": [],
   "source": [
    "def wordwrap3(caminho,tamanho):\n",
    "    arquivo = open(caminho, 'r')\n",
    "    texto = arquivo.readlines()\n",
    "    a = \"\"\n",
    "    for linha in texto:\n",
    "        tam_linha = len(linha)\n",
    "        print(\"LINHA INTEIRA: \", tam_linha, linha)\n",
    "        while (tam_linha > tamanho):\n",
    "            for palavra in linha.split():\n",
    "                if len(a)+len(palavra + \" \") <= tamanho: \n",
    "                    a += palavra + \" \"\n",
    "                else:\n",
    "                    break\n",
    "            print(len(a), a)\n",
    "            linha = linha[len(a)::]\n",
    "            a = \"\"\n",
    "            tam_linha = len(linha)\n",
    "        print(tam_linha, linha)\n",
    "    arquivo.close()"
   ]
  },
  {
   "cell_type": "code",
   "execution_count": 161,
   "metadata": {},
   "outputs": [
    {
     "name": "stdout",
     "output_type": "stream",
     "text": [
      "LINHA INTEIRA:  47 Although never is often better than right now.\n",
      "\n",
      "18 Although never is \n",
      "18 often better than \n",
      "11 right now.\n",
      "\n",
      "LINHA INTEIRA:  59 If the implementation is hard to explain, it's a bad idea.\n",
      "\n",
      "7 If the \n",
      "18 implementation is \n",
      "17 hard to explain, \n",
      "17 it's a bad idea.\n",
      "\n",
      "LINHA INTEIRA:  65 If the implementation is easy to explain, it may be a good idea.\n",
      "\n",
      "7 If the \n",
      "18 implementation is \n",
      "20 easy to explain, it \n",
      "20 may be a good idea.\n",
      "\n",
      "LINHA INTEIRA:  63 Namespaces are one honking great idea--let's do more of those!\n",
      "\n",
      "19 Namespaces are one \n",
      "14 honking great \n",
      "20 idea--let's do more \n",
      "10 of those!\n",
      "\n"
     ]
    }
   ],
   "source": [
    "wordwrap3('exercicio23.txt', 20)"
   ]
  },
  {
   "cell_type": "markdown",
   "metadata": {},
   "source": [
    "### Problem 24:\n",
    "#### Write a program `center_align.py` to center align all lines in the given file.\n",
    "\n",
    "    $ python center_align.py she.txt\n",
    "      I'm sure that the shells are seashore shells.  \n",
    "        So if she sells seashells on the seashore,   \n",
    "    The shells that she sells are seashells I'm sure.\n",
    "She sells seashells on the seashore; "
   ]
  },
  {
   "cell_type": "code",
   "execution_count": 183,
   "metadata": {},
   "outputs": [],
   "source": [
    "def center_align(path):\n",
    "    arq = open(path, 'r')\n",
    "    texto = arq.readlines()\n",
    "    for linha in texto:\n",
    "        print(linha.center(100))\n",
    "    arq.close()"
   ]
  },
  {
   "cell_type": "code",
   "execution_count": 184,
   "metadata": {},
   "outputs": [
    {
     "name": "stdout",
     "output_type": "stream",
     "text": [
      "                          Although never is often better than right now.\n",
      "                           \n",
      "                    If the implementation is hard to explain, it's a bad idea.\n",
      "                     \n",
      "                 If the implementation is easy to explain, it may be a good idea.\n",
      "                  \n",
      "                  Namespaces are one honking great idea--let's do more of those!\n",
      "                   \n"
     ]
    }
   ],
   "source": [
    "center_align('exercicio23.txt')"
   ]
  },
  {
   "cell_type": "markdown",
   "metadata": {},
   "source": [
    "## List comprehensions\n",
    "\n",
    "### Problem 25:\n",
    "#### Provide an implementation for zip function using list comprehensions.\n",
    "\n",
    "    >>> zip([1, 2, 3], [\"a\", \"b\", \"c\"])\n",
    "    [(1, \"a\"), (2, \"b\"), (3, \"c\")]"
   ]
  },
  {
   "cell_type": "code",
   "execution_count": 192,
   "metadata": {},
   "outputs": [
    {
     "data": {
      "text/plain": [
       "[(1, 'a'), (2, 'b'), (3, 'c')]"
      ]
     },
     "execution_count": 192,
     "metadata": {},
     "output_type": "execute_result"
    }
   ],
   "source": [
    "list1 = [1, 2, 3]\n",
    "list2 = [\"a\", \"b\", \"c\"]\n",
    "\n",
    "list(zip(list1, list2))"
   ]
  },
  {
   "cell_type": "code",
   "execution_count": 70,
   "metadata": {},
   "outputs": [],
   "source": [
    "list1 = [1, 2, 3]\n",
    "list2 = [\"a\", \"b\", \"c\"]\n",
    "\n",
    "def zipp(list1,list2):\n",
    "    lista3 = []\n",
    "    lista4 = []\n",
    "    for a in range(len(list1)):\n",
    "        lista3.append(list1[a])\n",
    "        lista3.append(list2[a])\n",
    "        lista4.append(tuple(lista3))\n",
    "        lista3 = []\n",
    "    print(lista4)"
   ]
  },
  {
   "cell_type": "code",
   "execution_count": 71,
   "metadata": {},
   "outputs": [
    {
     "name": "stdout",
     "output_type": "stream",
     "text": [
      "[(1, 'a'), (2, 'b'), (3, 'c')]\n"
     ]
    }
   ],
   "source": [
    "zipp(list1, list2)"
   ]
  },
  {
   "cell_type": "markdown",
   "metadata": {},
   "source": [
    "### Problem 26:\n",
    "#### Python provides a built-in function `map` that applies a function to each element of a list. Provide an implementation for `map` using list comprehensions.\n",
    "\n",
    "    >>> def square(x): return x * x\n",
    "    ...\n",
    "    >>> map(square, range(5))\n",
    "    [0, 1, 4, 9, 16]\n"
   ]
  },
  {
   "cell_type": "code",
   "execution_count": 45,
   "metadata": {},
   "outputs": [],
   "source": [
    "def square(x):\n",
    "    return x*x\n",
    "\n",
    "def mapp (func, size):\n",
    "    out = []\n",
    "    for i in size:\n",
    "        out.append(func(i))\n",
    "    print(out)"
   ]
  },
  {
   "cell_type": "code",
   "execution_count": 46,
   "metadata": {
    "scrolled": true
   },
   "outputs": [
    {
     "name": "stdout",
     "output_type": "stream",
     "text": [
      "[0, 1, 4, 9, 16]\n"
     ]
    }
   ],
   "source": [
    "mapp(square,range(5))"
   ]
  },
  {
   "cell_type": "markdown",
   "metadata": {},
   "source": [
    "### Problem 27:\n",
    "#### Python provides a built-in function `filter(f, a)` that returns items of the list `a` for which `f(item)` returns true. Provide an implementation for `filter` using list comprehensions.\n",
    "\n",
    "    >>> def even(x): return x %2 == 0\n",
    "    ...\n",
    "    >>> filter(even, range(10))\n",
    "    [0, 2, 4, 6, 8]"
   ]
  },
  {
   "cell_type": "code",
   "execution_count": 82,
   "metadata": {},
   "outputs": [
    {
     "name": "stdout",
     "output_type": "stream",
     "text": [
      "[0, 2, 4, 6, 8]\n",
      "[0, 2, 4, 6, 8]\n"
     ]
    }
   ],
   "source": [
    "num_pares = [num for num in range(10) if num % 2 == 0] \n",
    "print(num_pares)\n",
    "\n",
    "print([num for num in range(10) if num % 2 == 0])"
   ]
  },
  {
   "cell_type": "code",
   "execution_count": 77,
   "metadata": {},
   "outputs": [
    {
     "name": "stdout",
     "output_type": "stream",
     "text": [
      "[0, 2, 4, 6, 8]\n"
     ]
    }
   ],
   "source": [
    "def even(x): return x %2 == 0\n",
    "\n",
    "def filterr(func, size):\n",
    "    out = []\n",
    "    for i in size:\n",
    "        if func(i) == True:\n",
    "            out.append(i)\n",
    "    print(out)\n",
    "filterr(even, range(10))"
   ]
  },
  {
   "cell_type": "markdown",
   "metadata": {},
   "source": [
    "### Problem 28:\n",
    "#### Write a function `triplets` that takes a number `n` as argument and returns a list of triplets such that sum of first two elements of the triplet equals the third element using numbers below `n`. Please note that `(a, b, c)` and `(b, a, c)` represent same triplet.\n",
    "\n",
    "    >>> triplets(5)\n",
    "    [(1, 1, 2), (1, 2, 3), (1, 3, 4), (2, 2, 4)]"
   ]
  },
  {
   "cell_type": "code",
   "execution_count": null,
   "metadata": {},
   "outputs": [],
   "source": []
  },
  {
   "cell_type": "markdown",
   "metadata": {},
   "source": [
    "### Problem 29:\n",
    "#### Write a function `enumerate` that takes a list and returns a list of tuples containing `(index,item)` for each item in the list.\n",
    "\n",
    "\n",
    "    >>> enumerate([\"a\", \"b\", \"c\"])\n",
    "    [(0, \"a\"), (1, \"b\"), (2, \"c\")]\n",
    "    >>> for index, value in enumerate([\"a\", \"b\", \"c\"]):\n",
    "    ...     print index, value\n",
    "    0 a\n",
    "    1 b\n",
    "    2 c"
   ]
  },
  {
   "cell_type": "code",
   "execution_count": null,
   "metadata": {},
   "outputs": [],
   "source": []
  },
  {
   "cell_type": "markdown",
   "metadata": {},
   "source": [
    "### Problem 30:\n",
    "#### Write a function `array` to create an 2-dimensional array. The function should take both dimensions as arguments. Value of each element can be initialized to None:\n",
    "\n",
    "    >>> a = array(2, 3)\n",
    "    >>> a\n",
    "    [[None, None, None], [None, None, None]]\n",
    "    >>> a[0][0] = 5\n",
    "    [[5, None, None], [None, None, None]]"
   ]
  },
  {
   "cell_type": "code",
   "execution_count": null,
   "metadata": {},
   "outputs": [],
   "source": []
  },
  {
   "cell_type": "markdown",
   "metadata": {},
   "source": [
    "### Problem 31:\n",
    "#### Write a python function `parse_csv` to parse csv (comma separated values) files.\n",
    "\n",
    "    >>> print open('a.csv').read()\n",
    "    a,b,c\n",
    "    1,2,3\n",
    "    2,3,4\n",
    "    3,4,5\n",
    "    >>> parse_csv('a.csv')\n",
    "    [['a', 'b', 'c'], ['1', '2', '3'], ['2', '3', '4'], ['3', '4', '5']]"
   ]
  },
  {
   "cell_type": "code",
   "execution_count": null,
   "metadata": {},
   "outputs": [],
   "source": []
  },
  {
   "cell_type": "markdown",
   "metadata": {},
   "source": [
    "### Problem 32:\n",
    "#### Generalize the above implementation of csv parser to support any delimiter and comments.\n",
    "\n",
    "    >>> print open('a.txt').read()\n",
    "    # elements are separated by ! and comment indicator is #\n",
    "    a!b!c\n",
    "    1!2!3\n",
    "    2!3!4\n",
    "    3!4!5\n",
    "    >>> parse('a.txt', '!', '#')\n",
    "    [['a', 'b', 'c'], ['1', '2', '3'], ['2', '3', '4'], ['3', '4', '5']]"
   ]
  },
  {
   "cell_type": "code",
   "execution_count": null,
   "metadata": {},
   "outputs": [],
   "source": []
  },
  {
   "cell_type": "markdown",
   "metadata": {},
   "source": [
    "### Problem 33:\n",
    "#### Write a function `mutate` to compute all words generated by a single mutation on a given word. A mutation is defined as inserting a character, deleting a character, replacing a character, or swapping 2 consecutive characters in a string. For simplicity consider only letters from `a` to `z`.\n",
    "\n",
    "    >>> words = mutate('hello')\n",
    "    >>> 'helo' in words\n",
    "    True\n",
    "    >>> 'cello' in words\n",
    "    True\n",
    "    >>> 'helol' in words\n",
    "    True"
   ]
  },
  {
   "cell_type": "code",
   "execution_count": null,
   "metadata": {},
   "outputs": [],
   "source": []
  },
  {
   "cell_type": "markdown",
   "metadata": {},
   "source": [
    "### Problem 34:\n",
    "#### Write a function `nearly_equal` to test whether two strings are nearly equal. Two strings `a` and `b` are nearly equal when `a` can be generated by a single mutation on `b`.\n",
    "\n",
    "    >>> nearly_equal('python', 'perl')\n",
    "    False\n",
    "    >>> nearly_equal('perl', 'pearl')\n",
    "    True\n",
    "    >>> nearly_equal('python', 'jython')\n",
    "    True\n",
    "    >>> nearly_equal('man', 'woman')\n",
    "    False"
   ]
  },
  {
   "cell_type": "code",
   "execution_count": null,
   "metadata": {},
   "outputs": [],
   "source": []
  },
  {
   "cell_type": "markdown",
   "metadata": {},
   "source": [
    "## Dictionaries\n",
    "\n",
    "### Problem 36:\n",
    "#### Write a program to count frequency of characters in a given file. Can you use character frequency to tell whether the given file is a Python program file, C program file or a text file?"
   ]
  },
  {
   "cell_type": "code",
   "execution_count": null,
   "metadata": {},
   "outputs": [],
   "source": []
  },
  {
   "cell_type": "markdown",
   "metadata": {},
   "source": [
    "### Problem 37:\n",
    "#### Write a program to find anagrams in a given list of words. Two words are called anagrams if one word can be formed by rearranging letters of another. For example 'eat', 'ate' and 'tea' are anagrams.\n",
    "\n",
    "\n",
    "    >>> anagrams(['eat', 'ate', 'done', 'tea', 'soup', 'node'])\n",
    "    [['eat', 'ate', 'tea], ['done', 'node'], ['soup']]"
   ]
  },
  {
   "cell_type": "code",
   "execution_count": null,
   "metadata": {},
   "outputs": [],
   "source": []
  },
  {
   "cell_type": "markdown",
   "metadata": {},
   "source": [
    "### Problem 38:\n",
    "#### Write a function `valuesort` to sort values of a dictionary based on the key.\n",
    "\n",
    "    >>> valuesort({'x': 1, 'y': 2, 'a': 3})\n",
    "    [3, 1, 2]"
   ]
  },
  {
   "cell_type": "code",
   "execution_count": 90,
   "metadata": {},
   "outputs": [
    {
     "ename": "AttributeError",
     "evalue": "'list' object has no attribute 'values'",
     "output_type": "error",
     "traceback": [
      "\u001b[1;31m---------------------------------------------------------------------------\u001b[0m",
      "\u001b[1;31mAttributeError\u001b[0m                            Traceback (most recent call last)",
      "\u001b[1;32m<ipython-input-90-a1045e61ff5a>\u001b[0m in \u001b[0;36m<module>\u001b[1;34m\u001b[0m\n\u001b[0;32m      1\u001b[0m \u001b[0mteste\u001b[0m \u001b[1;33m=\u001b[0m \u001b[1;33m(\u001b[0m\u001b[0msorted\u001b[0m\u001b[1;33m(\u001b[0m\u001b[1;33m{\u001b[0m\u001b[1;34m'x'\u001b[0m\u001b[1;33m:\u001b[0m \u001b[1;36m1\u001b[0m\u001b[1;33m,\u001b[0m \u001b[1;34m'y'\u001b[0m\u001b[1;33m:\u001b[0m \u001b[1;36m2\u001b[0m\u001b[1;33m,\u001b[0m \u001b[1;34m'a'\u001b[0m\u001b[1;33m:\u001b[0m \u001b[1;36m3\u001b[0m\u001b[1;33m}\u001b[0m\u001b[1;33m)\u001b[0m\u001b[1;33m)\u001b[0m\u001b[1;33m\u001b[0m\u001b[1;33m\u001b[0m\u001b[0m\n\u001b[0;32m      2\u001b[0m \u001b[1;33m\u001b[0m\u001b[0m\n\u001b[1;32m----> 3\u001b[1;33m \u001b[0mprint\u001b[0m\u001b[1;33m(\u001b[0m\u001b[0mteste\u001b[0m\u001b[1;33m.\u001b[0m\u001b[0mvalues\u001b[0m\u001b[1;33m)\u001b[0m\u001b[1;33m\u001b[0m\u001b[1;33m\u001b[0m\u001b[0m\n\u001b[0m",
      "\u001b[1;31mAttributeError\u001b[0m: 'list' object has no attribute 'values'"
     ]
    }
   ],
   "source": [
    "teste = (sorted({'x': 1, 'y': 2, 'a': 3}))\n",
    "\n",
    "print(teste.values)"
   ]
  },
  {
   "cell_type": "markdown",
   "metadata": {},
   "source": [
    "### Problem 39:\n",
    "#### Write a function `invertdict` to interchange keys and values in a dictionary. For simplicity, assume that all values are unique.\n",
    "\n",
    "\n",
    "    >>> invertdict({'x': 1, 'y': 2, 'z': 3})\n",
    "    {1: 'x', 2: 'y', 3: 'z'}"
   ]
  },
  {
   "cell_type": "code",
   "execution_count": null,
   "metadata": {},
   "outputs": [],
   "source": []
  }
 ],
 "metadata": {
  "kernelspec": {
   "display_name": "Python 3",
   "language": "python",
   "name": "python3"
  },
  "language_info": {
   "codemirror_mode": {
    "name": "ipython",
    "version": 3
   },
   "file_extension": ".py",
   "mimetype": "text/x-python",
   "name": "python",
   "nbconvert_exporter": "python",
   "pygments_lexer": "ipython3",
   "version": "3.7.3"
  }
 },
 "nbformat": 4,
 "nbformat_minor": 2
}
