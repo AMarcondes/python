{
 "cells": [
  {
   "cell_type": "markdown",
   "metadata": {},
   "source": [
    "# Exercício Orientação à Objeto"
   ]
  },
  {
   "cell_type": "code",
   "execution_count": 8,
   "metadata": {},
   "outputs": [],
   "source": [
    "import numpy as np\n",
    "\n",
    "class FileFunctions:\n",
    "\n",
    "\tdef __init__(self, filename):\n",
    "\t\tself.filep = open(filename,\"r\")\n",
    "\t\tself.strings = None\n",
    "\t\tself.frequence = None\n",
    "\t\n",
    "\t# Texto como lista de strings\n",
    "\tdef read_file(self):\n",
    "\t\ts = []\n",
    "\t\tfor line in self.filep:\n",
    "\t\t\ts.extend(line.strip().split(\" \"))\n",
    "\t\tself.strings = s\n",
    "\n",
    "\t# Retorna individualmente cada palavra\n",
    "\t# Conta a quantidade de ocorrencia de cada palavra\n",
    "\tdef count_frequence(self):\n",
    "\t\td = {}\n",
    "\t\tfor word in self.strings:\n",
    "\t\t\tif word in d:\n",
    "\t\t\t\td[word]+=1\n",
    "\t\t\telse:\n",
    "\t\t\t\td[word]=1\n",
    "\t\tself.frequence = d\n",
    " \t\t\n",
    "\t# 10 palavras mais frequentes\n",
    "\tdef most_frequent(self, num):\n",
    "\t\td = self.frequence\n",
    "\t\treturn (sorted(d, key=d.get, reverse=True)[:num])\n",
    "\n",
    "\t# Retorna a media e o desvio padrao das ocorrencias\n",
    "\tdef mean_std(self):\n",
    "\t\tdicti = self.frequence\t\t\n",
    "\n",
    "\t\ttotal = 0\t\t\n",
    "\t\tfor key in dicti:\n",
    "\t\t\ttotal += dicti[key]\n",
    "\t\t\n",
    "\t\tvalues = [dicti[i] for i in dicti]\n",
    "\t\tstd = np.std(values)\n",
    "\n",
    "\t\treturn total/len(dicti), std\n",
    "\n",
    "\t# Novo arquivo eliminando todas as StopWords do texto\n",
    "\tdef delete_stopwords(self,stpw, outfile_name):\n",
    "\t\tnew_strings = []\n",
    "\t\tfor word in self.strings:\n",
    "\t\t\tif word not in stpw.stopwords:\n",
    "\t\t\t\tnew_strings.append(word)\n",
    "\n",
    "\t\toutfile = open(outfile_name,\"w\")\n",
    "\t\tfor word in new_strings:\n",
    "\t\t\toutfile.write(word,\" \")\n",
    "\n",
    "\t# distancia entre duas palavras\n",
    "\t# hamming adaptado\n",
    "\tdef distance_words (self, word1, word2):\n",
    "\t\tdist = 0\n",
    "\t\tfor i in range(min(len(word1),len(word2))):\n",
    "\t\t\tif word1[i] != word2[i]:\n",
    "\t\t\t\tdist+=1\n",
    "\t\tdist += abs(len(word1)-len(word2))\n",
    "\t\treturn dist\n",
    "\n",
    "\t\t \n",
    "\n",
    "class StopWords:\n",
    "\tdef __init__(self):\n",
    "\t\tstopwords = [\"a\",\"e\",\"o\",\"as\",\"os\",\"de\",\"para\",\"sem\",\"com\"]\n",
    "\t\t\t\n",
    "\t\t"
   ]
  },
  {
   "cell_type": "code",
   "execution_count": 9,
   "metadata": {},
   "outputs": [
    {
     "name": "stdout",
     "output_type": "stream",
     "text": [
      "{'a': 2, 'ele': 2, 'na': 2, 'fala': 1, 'oi': 1, 'gente': 1}\n",
      "Top 10 most frequent words:  ['a', 'ele', 'na', 'fala', 'oi', 'gente']\n",
      "Mean:  1.5  Standard Deviation:  0.5\n",
      "Insira uma palavra: python\n",
      "Insira outra palavra: pyton\n",
      "Distancia entre palavras:  3\n"
     ]
    }
   ],
   "source": [
    "p1 = FileFunctions(\"test.txt\")\n",
    "p1.read_file()\n",
    "p1.count_frequence()\n",
    "print(p1.frequence)\n",
    "\n",
    "most10 = p1.most_frequent(10)\n",
    "print(\"Top 10 most frequent words: \",most10)\n",
    "\n",
    "mean, std = p1.mean_std()\n",
    "print(\"Mean: \",mean,\" Standard Deviation: \",std)\n",
    "\n",
    "word1 = input(\"Insira uma palavra: \")\n",
    "word2 = input(\"Insira outra palavra: \")\n",
    "dist = p1.distance_words(word1,word2)\n",
    "print(\"Distancia entre palavras: \",dist)"
   ]
  },
  {
   "cell_type": "code",
   "execution_count": null,
   "metadata": {},
   "outputs": [],
   "source": []
  }
 ],
 "metadata": {
  "kernelspec": {
   "display_name": "Python [conda env:test] *",
   "language": "python",
   "name": "conda-env-test-py"
  },
  "language_info": {
   "codemirror_mode": {
    "name": "ipython",
    "version": 3
   },
   "file_extension": ".py",
   "mimetype": "text/x-python",
   "name": "python",
   "nbconvert_exporter": "python",
   "pygments_lexer": "ipython3",
   "version": "3.7.4"
  }
 },
 "nbformat": 4,
 "nbformat_minor": 2
}
